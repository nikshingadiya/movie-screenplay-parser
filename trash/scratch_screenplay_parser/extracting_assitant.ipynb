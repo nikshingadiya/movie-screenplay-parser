{
 "cells": [
  {
   "cell_type": "code",
   "execution_count": 68,
   "metadata": {},
   "outputs": [
    {
     "name": "stdout",
     "output_type": "stream",
     "text": [
      "The autoreload extension is already loaded. To reload it, use:\n",
      "  %reload_ext autoreload\n"
     ]
    }
   ],
   "source": [
    "%load_ext autoreload\n",
    "%autoreload 2\n",
    "import os\n",
    "from dotenv import load_dotenv\n",
    "load_dotenv()\n",
    "\n",
    "from system_prompt import screenplay_parser_bot\n",
    "from langchain.output_parsers import ResponseSchema\n",
    "from langchain.output_parsers.structured import StructuredOutputParser"
   ]
  },
  {
   "cell_type": "code",
   "execution_count": 69,
   "metadata": {},
   "outputs": [],
   "source": [
    "from langchain.prompts import HumanMessagePromptTemplate,ChatPromptTemplate\n",
    "from langchain_core.messages import SystemMessage\n",
    "from langchain.chat_models import ChatOpenAI"
   ]
  },
  {
   "cell_type": "code",
   "execution_count": 70,
   "metadata": {},
   "outputs": [],
   "source": [
    "chat_model = ChatOpenAI(model_name='gpt-3.5-turbo',api_key=os.environ.get(\"OPENAI_API_KEY\"))"
   ]
  },
  {
   "cell_type": "code",
   "execution_count": 71,
   "metadata": {},
   "outputs": [],
   "source": [
    "from langchain.chains import LLMChain"
   ]
  },
  {
   "cell_type": "code",
   "execution_count": 72,
   "metadata": {},
   "outputs": [],
   "source": [
    "chat_template = ChatPromptTemplate.from_messages(\n",
    "    [\n",
    "        SystemMessage(\n",
    "            content=(\n",
    "               screenplay_parser_bot\n",
    "            )\n",
    "        ),\n",
    "        HumanMessagePromptTemplate.from_template(\"{text}\"),\n",
    "    ]\n",
    "    \n",
    ")\n",
    "\n",
    "# messages = chat_template.format_messages(text=\"I don't like eating tasty things\")\n",
    "# print(messages)"
   ]
  },
  {
   "cell_type": "code",
   "execution_count": 80,
   "metadata": {},
   "outputs": [],
   "source": [
    "text_query='''A pool hemmed by sandstone boulders bristling with sage. A\n",
    "man stands naked on the rocks, covered in blood. He falls.\n",
    "Flick runs. But she doesn't catch him.\n",
    "She perches at the overhang, looking down. The man breaks the\n",
    "surface and throws his head back, suddenly okay.\n",
    "The man is Yancy Antrobus, Raleigh's brother. We see the\n",
    "resemblance, but he's more carefree than his younger brother,\n",
    "an assured soul with the charm of a barefoot troubadour.\n",
    "Wisps of red spread from him, turning the pool to blood.\n",
    "YANCY\n",
    "Come on in, Flick.\n",
    "FLICK\n",
    "I can't, Yance.\n",
    "YANCY\n",
    "Well you can't stay out there.\n",
    "11.\n",
    "CONTINUED: (2)\n",
    "(CONTINUED)\n",
    "Flick looks back to see a wildfire sweeping over the scrub\n",
    "around her. Something stirs beyond the flames; something huge\n",
    "and alive, as if part of the horizon itself was waking up.\n",
    "Its shape rises high and obscure behind the swirling cinders,\n",
    "towering over the desert; a vast behemoth shadowed in smoke\n",
    "and night, rearing up to blot out the stars.\n",
    "Yancy flashes Flick reassuring smile as he treads blood.\n",
    "YANCY (CONT’D)\n",
    "Jump in, babe. Come on. There's\n",
    "nothing for you out there...\n",
    "Behind her, the pitch-dark kaiju BELLOWS; a dull, bestial\n",
    "grumble made loud and bone-shuddering by the sheer size of\n",
    "the beast. The THROBBING ground announces its every step.\n",
    "Hundreds of feet overhead, it's jagged jaws glow furnace-like\n",
    "from within. Ignescent saliva drips from it's teeth like\n",
    "molten napalm, fueling the encroaching wildfire.\n",
    "An AIR RAID SIREN wails and Flick steps back, unconsciously\n",
    "inching away from the blazing heat -- until her last step\n",
    "finds only air, and she falls into the pool of blood.'''"
   ]
  },
  {
   "cell_type": "code",
   "execution_count": 81,
   "metadata": {},
   "outputs": [],
   "source": [
    "response_schemas = [\n",
    "    ResponseSchema(\n",
    "        name=\"scene_details\",\n",
    "        description=\"return the dictionary of extracted data\",\n",
    "    ),\n",
    "]\n",
    "output_parser = StructuredOutputParser.from_response_schemas(response_schemas)"
   ]
  },
  {
   "cell_type": "code",
   "execution_count": 82,
   "metadata": {},
   "outputs": [],
   "source": [
    "chain = LLMChain(llm=chat_model, prompt=chat_template,output_parser=output_parser)"
   ]
  },
  {
   "cell_type": "code",
   "execution_count": 83,
   "metadata": {},
   "outputs": [],
   "source": [
    "extracted_data=chain.run(text_query)"
   ]
  },
  {
   "cell_type": "code",
   "execution_count": 77,
   "metadata": {},
   "outputs": [
    {
     "data": {
      "text/plain": [
       "dict"
      ]
     },
     "execution_count": 77,
     "metadata": {},
     "output_type": "execute_result"
    }
   ],
   "source": [
    "type(extracted_data)"
   ]
  },
  {
   "cell_type": "code",
   "execution_count": 84,
   "metadata": {},
   "outputs": [
    {
     "data": {
      "text/plain": [
       "{'events': [{'type': 'action_lines',\n",
       "   'content': 'A pool hemmed by sandstone boulders bristling with sage.'},\n",
       "  {'type': 'action_lines',\n",
       "   'content': 'A man stands naked on the rocks, covered in blood.'},\n",
       "  {'type': 'action_lines', 'content': 'He falls.'},\n",
       "  {'type': 'action_lines',\n",
       "   'content': \"Flick runs. But she doesn't catch him.\"},\n",
       "  {'type': 'action_lines',\n",
       "   'content': 'She perches at the overhang, looking down.'},\n",
       "  {'type': 'action_lines',\n",
       "   'content': 'The man breaks the surface and throws his head back, suddenly okay.'},\n",
       "  {'type': 'dialogue', 'speaker': 'YANCY', 'content': 'Come on in, Flick.'},\n",
       "  {'type': 'dialogue', 'speaker': 'FLICK', 'content': \"I can't, Yance.\"},\n",
       "  {'type': 'dialogue',\n",
       "   'speaker': 'YANCY',\n",
       "   'content': \"Well you can't stay out there.\"},\n",
       "  {'type': 'action_lines',\n",
       "   'content': 'Flick looks back to see a wildfire sweeping over the scrub around her.'},\n",
       "  {'type': 'action_lines',\n",
       "   'content': 'Something stirs beyond the flames; something huge and alive, as if part of the horizon itself was waking up.'},\n",
       "  {'type': 'action_lines',\n",
       "   'content': 'Its shape rises high and obscure behind the swirling cinders, towering over the desert; a vast behemoth shadowed in smoke and night, rearing up to blot out the stars.'},\n",
       "  {'type': 'dialogue',\n",
       "   'speaker': 'YANCY',\n",
       "   'content': \"Jump in, babe. Come on. There's nothing for you out there...\"},\n",
       "  {'type': 'action_lines',\n",
       "   'content': 'Behind her, the pitch-dark kaiju BELLOWS; a dull, bestial grumble made loud and bone-shuddering by the sheer size of the beast.'},\n",
       "  {'type': 'action_lines',\n",
       "   'content': 'The THROBBING ground announces its every step.'},\n",
       "  {'type': 'action_lines',\n",
       "   'content': 'Hundreds of feet overhead, its jagged jaws glow furnace-like from within.'},\n",
       "  {'type': 'action_lines',\n",
       "   'content': 'Ignescent saliva drips from its teeth like molten napalm, fueling the encroaching wildfire.'},\n",
       "  {'type': 'action_lines',\n",
       "   'content': 'An AIR RAID SIREN wails and Flick steps back, unconsciously inching away from the blazing heat -- until her last step finds only air, and she falls into the pool of blood.'}]}"
      ]
     },
     "execution_count": 84,
     "metadata": {},
     "output_type": "execute_result"
    }
   ],
   "source": [
    "extracted_data['scene_details']"
   ]
  },
  {
   "cell_type": "code",
   "execution_count": null,
   "metadata": {},
   "outputs": [],
   "source": []
  }
 ],
 "metadata": {
  "kernelspec": {
   "display_name": "venv",
   "language": "python",
   "name": "python3"
  },
  "language_info": {
   "codemirror_mode": {
    "name": "ipython",
    "version": 3
   },
   "file_extension": ".py",
   "mimetype": "text/x-python",
   "name": "python",
   "nbconvert_exporter": "python",
   "pygments_lexer": "ipython3",
   "version": "3.8.10"
  }
 },
 "nbformat": 4,
 "nbformat_minor": 2
}
